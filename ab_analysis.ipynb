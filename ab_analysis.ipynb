{
 "cells": [
  {
   "cell_type": "markdown",
   "id": "1fd2af0b",
   "metadata": {},
   "source": [
    "Одной из основных задач аналитика в нашей команде является корректное проведение экспериментов. Для этого мы применяем метод A/B–тестирования. В ходе тестирования одной гипотезы целевой группе была предложена новая механика оплаты услуг на сайте, у контрольной группы оставалась базовая механика. В качестве задания Вам необходимо проанализировать итоги эксперимента и сделать вывод, стоит ли запускать новую механику оплаты на всех пользователей."
   ]
  },
  {
   "cell_type": "markdown",
   "id": "3b24512c",
   "metadata": {},
   "source": [
    "В качестве входных данных Вы имеете 4 csv-файла:\n",
    "\n",
    "- **groups.csv** - файл с информацией о принадлежности пользователя к контрольной или экспериментальной группе (А – контроль, B – целевая группа) \n",
    "- **groups_add.csv** - дополнительный файл с пользователями, который вам прислали спустя 2 дня после передачи данных\n",
    "- **active_studs.csv** - файл с информацией о пользователях, которые зашли на платформу в дни проведения эксперимента. \n",
    "- **checks.csv** - файл с информацией об оплатах пользователей в дни проведения эксперимента. "
   ]
  },
  {
   "cell_type": "code",
   "execution_count": null,
   "id": "80b1fa61",
   "metadata": {},
   "outputs": [],
   "source": []
  },
  {
   "cell_type": "code",
   "execution_count": 1,
   "id": "42b73df9",
   "metadata": {},
   "outputs": [],
   "source": [
    "import pandas as pd\n",
    "import numpy as np\n",
    "import requests\n",
    "from urllib.parse import urlencode\n",
    "\n",
    "import scipy.stats as stats\n",
    "from scipy.stats import bootstrap\n",
    "\n",
    "import seaborn as sns\n",
    "import matplotlib.pyplot as plt \n",
    "\n",
    "%matplotlib inline"
   ]
  },
  {
   "cell_type": "code",
   "execution_count": null,
   "id": "771f7d46",
   "metadata": {},
   "outputs": [],
   "source": []
  },
  {
   "cell_type": "markdown",
   "id": "a25dc91c",
   "metadata": {},
   "source": [
    "## Data"
   ]
  },
  {
   "cell_type": "code",
   "execution_count": 2,
   "id": "43b45416",
   "metadata": {},
   "outputs": [],
   "source": [
    "def get_data(public_key: str, sep: str) -> pd.DataFrame:\n",
    "    '''\n",
    "    Загружает csv-файл с яндекс диска и возвращает его в виде pandas DataFrame.\n",
    "\n",
    "    Параметры:\n",
    "    - public_key: Публичная ссылка на файл на яндекс диске.\n",
    "    - sep: Разделитель в csv-файле.\n",
    "\n",
    "    Возвращает:\n",
    "    - pd.DataFrame: Датафрейм с данными из csv-файла.\n",
    "    '''\n",
    "    \n",
    "    base_url = 'https://cloud-api.yandex.net/v1/disk/public/resources/download?'\n",
    "    \n",
    "    final_url = base_url + urlencode(dict(public_key=public_key))\n",
    "    response = requests.get(final_url)\n",
    "    download_url = response.json()['href']\n",
    "    \n",
    "    return pd.read_csv(download_url, sep=sep)"
   ]
  },
  {
   "cell_type": "code",
   "execution_count": null,
   "id": "fb8512c4",
   "metadata": {},
   "outputs": [],
   "source": []
  },
  {
   "cell_type": "code",
   "execution_count": 3,
   "id": "600b17f0",
   "metadata": {},
   "outputs": [
    {
     "data": {
      "text/html": [
       "<div>\n",
       "<style scoped>\n",
       "    .dataframe tbody tr th:only-of-type {\n",
       "        vertical-align: middle;\n",
       "    }\n",
       "\n",
       "    .dataframe tbody tr th {\n",
       "        vertical-align: top;\n",
       "    }\n",
       "\n",
       "    .dataframe thead th {\n",
       "        text-align: right;\n",
       "    }\n",
       "</style>\n",
       "<table border=\"1\" class=\"dataframe\">\n",
       "  <thead>\n",
       "    <tr style=\"text-align: right;\">\n",
       "      <th></th>\n",
       "      <th>student_id</th>\n",
       "    </tr>\n",
       "  </thead>\n",
       "  <tbody>\n",
       "    <tr>\n",
       "      <th>0</th>\n",
       "      <td>581585</td>\n",
       "    </tr>\n",
       "    <tr>\n",
       "      <th>1</th>\n",
       "      <td>5723133</td>\n",
       "    </tr>\n",
       "    <tr>\n",
       "      <th>2</th>\n",
       "      <td>3276743</td>\n",
       "    </tr>\n",
       "    <tr>\n",
       "      <th>3</th>\n",
       "      <td>4238589</td>\n",
       "    </tr>\n",
       "    <tr>\n",
       "      <th>4</th>\n",
       "      <td>4475369</td>\n",
       "    </tr>\n",
       "  </tbody>\n",
       "</table>\n",
       "</div>"
      ],
      "text/plain": [
       "   student_id\n",
       "0      581585\n",
       "1     5723133\n",
       "2     3276743\n",
       "3     4238589\n",
       "4     4475369"
      ]
     },
     "execution_count": 3,
     "metadata": {},
     "output_type": "execute_result"
    }
   ],
   "source": [
    "active_studs = get_data('https://disk.yandex.ru/d/Tbs44Bm6H_FwFQ', sep=',')\n",
    "active_studs.head()"
   ]
  },
  {
   "cell_type": "code",
   "execution_count": 4,
   "id": "64104926",
   "metadata": {},
   "outputs": [
    {
     "data": {
      "text/html": [
       "<div>\n",
       "<style scoped>\n",
       "    .dataframe tbody tr th:only-of-type {\n",
       "        vertical-align: middle;\n",
       "    }\n",
       "\n",
       "    .dataframe tbody tr th {\n",
       "        vertical-align: top;\n",
       "    }\n",
       "\n",
       "    .dataframe thead th {\n",
       "        text-align: right;\n",
       "    }\n",
       "</style>\n",
       "<table border=\"1\" class=\"dataframe\">\n",
       "  <thead>\n",
       "    <tr style=\"text-align: right;\">\n",
       "      <th></th>\n",
       "      <th>student_id</th>\n",
       "      <th>rev</th>\n",
       "    </tr>\n",
       "  </thead>\n",
       "  <tbody>\n",
       "    <tr>\n",
       "      <th>0</th>\n",
       "      <td>1627</td>\n",
       "      <td>990.0</td>\n",
       "    </tr>\n",
       "    <tr>\n",
       "      <th>1</th>\n",
       "      <td>3185</td>\n",
       "      <td>690.0</td>\n",
       "    </tr>\n",
       "    <tr>\n",
       "      <th>2</th>\n",
       "      <td>25973</td>\n",
       "      <td>690.0</td>\n",
       "    </tr>\n",
       "    <tr>\n",
       "      <th>3</th>\n",
       "      <td>26280</td>\n",
       "      <td>690.0</td>\n",
       "    </tr>\n",
       "    <tr>\n",
       "      <th>4</th>\n",
       "      <td>100300</td>\n",
       "      <td>990.0</td>\n",
       "    </tr>\n",
       "  </tbody>\n",
       "</table>\n",
       "</div>"
      ],
      "text/plain": [
       "   student_id    rev\n",
       "0        1627  990.0\n",
       "1        3185  690.0\n",
       "2       25973  690.0\n",
       "3       26280  690.0\n",
       "4      100300  990.0"
      ]
     },
     "execution_count": 4,
     "metadata": {},
     "output_type": "execute_result"
    }
   ],
   "source": [
    "checks = get_data('https://disk.yandex.ru/d/pH1q-VqcxXjsVA', sep=';')\n",
    "checks.head()"
   ]
  },
  {
   "cell_type": "code",
   "execution_count": 5,
   "id": "4545b23b",
   "metadata": {},
   "outputs": [
    {
     "data": {
      "text/html": [
       "<div>\n",
       "<style scoped>\n",
       "    .dataframe tbody tr th:only-of-type {\n",
       "        vertical-align: middle;\n",
       "    }\n",
       "\n",
       "    .dataframe tbody tr th {\n",
       "        vertical-align: top;\n",
       "    }\n",
       "\n",
       "    .dataframe thead th {\n",
       "        text-align: right;\n",
       "    }\n",
       "</style>\n",
       "<table border=\"1\" class=\"dataframe\">\n",
       "  <thead>\n",
       "    <tr style=\"text-align: right;\">\n",
       "      <th></th>\n",
       "      <th>id</th>\n",
       "      <th>grp</th>\n",
       "    </tr>\n",
       "  </thead>\n",
       "  <tbody>\n",
       "    <tr>\n",
       "      <th>0</th>\n",
       "      <td>5694584</td>\n",
       "      <td>B</td>\n",
       "    </tr>\n",
       "    <tr>\n",
       "      <th>1</th>\n",
       "      <td>5694830</td>\n",
       "      <td>B</td>\n",
       "    </tr>\n",
       "    <tr>\n",
       "      <th>2</th>\n",
       "      <td>5695057</td>\n",
       "      <td>B</td>\n",
       "    </tr>\n",
       "    <tr>\n",
       "      <th>3</th>\n",
       "      <td>5698872</td>\n",
       "      <td>B</td>\n",
       "    </tr>\n",
       "    <tr>\n",
       "      <th>4</th>\n",
       "      <td>5699067</td>\n",
       "      <td>B</td>\n",
       "    </tr>\n",
       "  </tbody>\n",
       "</table>\n",
       "</div>"
      ],
      "text/plain": [
       "        id grp\n",
       "0  5694584   B\n",
       "1  5694830   B\n",
       "2  5695057   B\n",
       "3  5698872   B\n",
       "4  5699067   B"
      ]
     },
     "execution_count": 5,
     "metadata": {},
     "output_type": "execute_result"
    }
   ],
   "source": [
    "group_add = get_data('https://disk.yandex.ru/d/5Kxrz02m3IBUwQ', sep=',')\n",
    "group_add.head()"
   ]
  },
  {
   "cell_type": "markdown",
   "id": "f0d1c1f0",
   "metadata": {},
   "source": [
    "Нерабочая ссылка для groups, использую ссылку для скачивания"
   ]
  },
  {
   "cell_type": "code",
   "execution_count": 6,
   "id": "96a67bab",
   "metadata": {},
   "outputs": [
    {
     "data": {
      "text/plain": [
       "<Response [404]>"
      ]
     },
     "execution_count": 6,
     "metadata": {},
     "output_type": "execute_result"
    }
   ],
   "source": [
    "base_url = 'https://cloud-api.yandex.net/v1/disk/public/resources/download?'\n",
    "final_url = base_url + urlencode(dict(public_key='https://disk.yandex.ru/d/UhyYx41rTt3clQ'))\n",
    "response = requests.get(final_url)\n",
    "response"
   ]
  },
  {
   "cell_type": "code",
   "execution_count": 7,
   "id": "db092b0f",
   "metadata": {},
   "outputs": [
    {
     "data": {
      "text/html": [
       "<div>\n",
       "<style scoped>\n",
       "    .dataframe tbody tr th:only-of-type {\n",
       "        vertical-align: middle;\n",
       "    }\n",
       "\n",
       "    .dataframe tbody tr th {\n",
       "        vertical-align: top;\n",
       "    }\n",
       "\n",
       "    .dataframe thead th {\n",
       "        text-align: right;\n",
       "    }\n",
       "</style>\n",
       "<table border=\"1\" class=\"dataframe\">\n",
       "  <thead>\n",
       "    <tr style=\"text-align: right;\">\n",
       "      <th></th>\n",
       "      <th>id</th>\n",
       "      <th>grp</th>\n",
       "    </tr>\n",
       "  </thead>\n",
       "  <tbody>\n",
       "    <tr>\n",
       "      <th>0</th>\n",
       "      <td>1489</td>\n",
       "      <td>B</td>\n",
       "    </tr>\n",
       "    <tr>\n",
       "      <th>1</th>\n",
       "      <td>1627</td>\n",
       "      <td>A</td>\n",
       "    </tr>\n",
       "    <tr>\n",
       "      <th>2</th>\n",
       "      <td>1768</td>\n",
       "      <td>B</td>\n",
       "    </tr>\n",
       "    <tr>\n",
       "      <th>3</th>\n",
       "      <td>1783</td>\n",
       "      <td>B</td>\n",
       "    </tr>\n",
       "    <tr>\n",
       "      <th>4</th>\n",
       "      <td>1794</td>\n",
       "      <td>A</td>\n",
       "    </tr>\n",
       "  </tbody>\n",
       "</table>\n",
       "</div>"
      ],
      "text/plain": [
       "     id grp\n",
       "0  1489   B\n",
       "1  1627   A\n",
       "2  1768   B\n",
       "3  1783   B\n",
       "4  1794   A"
      ]
     },
     "execution_count": 7,
     "metadata": {},
     "output_type": "execute_result"
    }
   ],
   "source": [
    "download_link = 'https://s89vlx.storage.yandex.net/rdisk/da8c9bfc9ddef881d71064e03e152e0e863166bf2d9bc9cd55ba81b95cb08bc3/64e7db7d/fKqInKw3d7bLFOeFnMGnhLWIS9AmXMMXWGR17A-BkO3-qg5Wp8tUAp7lxoJJvJyG8pjltSuuxShICmGl2FDiJhbsM4PC04KdB-NoZUjfeOOr8npumZHI4midPdWhecNq?uid=992018421&filename=%D0%9F%D1%80%D0%BE%D0%B5%D0%BA%D1%82_2_groups.csv&disposition=attachment&hash=&limit=0&content_type=text%2Fplain&owner_uid=992018421&fsize=724984&hid=4b9098e1d545e562c779de19f9f64e2f&media_type=spreadsheet&tknv=v2&etag=6517d04ad247593dab021669e7065354&rtoken=SudwIokDkN1x&force_default=yes&ycrid=na-31a015b7e140e202ed35bdcec299f6d7-downloader4h&ts=603b2dce01940&s=943609a9bd6d3e3a15a4d834f2016177411f1cf91a67f9bdeb6e29f504b070cf&pb=U2FsdGVkX1_swfdPh-FrRXFaOFayOBGLD1Wz1Q8RNN2LiMjR4dRYf9snRG0saQ4ebmovkIjzZLppYzcG5Nuejops5LEXg_CayV-AYRvCjC82h3fl_MqAKM4HzjfEmij7'\n",
    "groups = pd.read_csv(download_link, sep=';')\n",
    "groups.head()"
   ]
  },
  {
   "cell_type": "code",
   "execution_count": null,
   "id": "dc311b99",
   "metadata": {},
   "outputs": [],
   "source": []
  },
  {
   "cell_type": "code",
   "execution_count": 8,
   "id": "5982933e",
   "metadata": {},
   "outputs": [
    {
     "data": {
      "text/plain": [
       "((8341, 1), (541, 2), (74484, 2), (92, 2))"
      ]
     },
     "execution_count": 8,
     "metadata": {},
     "output_type": "execute_result"
    }
   ],
   "source": [
    "active_studs.shape, checks.shape, groups.shape, group_add.shape"
   ]
  },
  {
   "cell_type": "code",
   "execution_count": 9,
   "id": "84660c9f",
   "metadata": {},
   "outputs": [
    {
     "data": {
      "text/plain": [
       "(8341, 541, 74484, 92)"
      ]
     },
     "execution_count": 9,
     "metadata": {},
     "output_type": "execute_result"
    }
   ],
   "source": [
    "active_studs.student_id.nunique(), checks.student_id.nunique(), groups.id.nunique(), group_add.id.nunique()"
   ]
  },
  {
   "cell_type": "code",
   "execution_count": null,
   "id": "8749f5ee",
   "metadata": {},
   "outputs": [],
   "source": []
  },
  {
   "cell_type": "markdown",
   "id": "57fe5922",
   "metadata": {},
   "source": [
    "## Data processing"
   ]
  },
  {
   "cell_type": "markdown",
   "id": "9dbd608c",
   "metadata": {},
   "source": [
    "Присоединим новые данные к основным."
   ]
  },
  {
   "cell_type": "code",
   "execution_count": 10,
   "id": "fc9067ce",
   "metadata": {},
   "outputs": [
    {
     "data": {
      "text/html": [
       "<div>\n",
       "<style scoped>\n",
       "    .dataframe tbody tr th:only-of-type {\n",
       "        vertical-align: middle;\n",
       "    }\n",
       "\n",
       "    .dataframe tbody tr th {\n",
       "        vertical-align: top;\n",
       "    }\n",
       "\n",
       "    .dataframe thead th {\n",
       "        text-align: right;\n",
       "    }\n",
       "</style>\n",
       "<table border=\"1\" class=\"dataframe\">\n",
       "  <thead>\n",
       "    <tr style=\"text-align: right;\">\n",
       "      <th></th>\n",
       "      <th>id</th>\n",
       "      <th>grp</th>\n",
       "    </tr>\n",
       "  </thead>\n",
       "  <tbody>\n",
       "    <tr>\n",
       "      <th>0</th>\n",
       "      <td>1489</td>\n",
       "      <td>B</td>\n",
       "    </tr>\n",
       "    <tr>\n",
       "      <th>1</th>\n",
       "      <td>1627</td>\n",
       "      <td>A</td>\n",
       "    </tr>\n",
       "    <tr>\n",
       "      <th>2</th>\n",
       "      <td>1768</td>\n",
       "      <td>B</td>\n",
       "    </tr>\n",
       "    <tr>\n",
       "      <th>3</th>\n",
       "      <td>1783</td>\n",
       "      <td>B</td>\n",
       "    </tr>\n",
       "    <tr>\n",
       "      <th>4</th>\n",
       "      <td>1794</td>\n",
       "      <td>A</td>\n",
       "    </tr>\n",
       "  </tbody>\n",
       "</table>\n",
       "</div>"
      ],
      "text/plain": [
       "     id grp\n",
       "0  1489   B\n",
       "1  1627   A\n",
       "2  1768   B\n",
       "3  1783   B\n",
       "4  1794   A"
      ]
     },
     "execution_count": 10,
     "metadata": {},
     "output_type": "execute_result"
    }
   ],
   "source": [
    "groups = pd.concat([groups, group_add], ignore_index=True)\n",
    "groups.head()"
   ]
  },
  {
   "cell_type": "code",
   "execution_count": 11,
   "id": "d67d16f6",
   "metadata": {},
   "outputs": [
    {
     "data": {
      "text/plain": [
       "(74576, 2)"
      ]
     },
     "execution_count": 11,
     "metadata": {},
     "output_type": "execute_result"
    }
   ],
   "source": [
    "groups.shape"
   ]
  },
  {
   "cell_type": "code",
   "execution_count": null,
   "id": "93f2452a",
   "metadata": {},
   "outputs": [],
   "source": []
  },
  {
   "cell_type": "markdown",
   "id": "635cef7d",
   "metadata": {},
   "source": [
    "Платящих пользователей, неактивных в указанный период, учитывать не будем."
   ]
  },
  {
   "cell_type": "code",
   "execution_count": 12,
   "id": "a5a9b3f7",
   "metadata": {},
   "outputs": [
    {
     "data": {
      "text/plain": [
       "(392, 2)"
      ]
     },
     "execution_count": 12,
     "metadata": {},
     "output_type": "execute_result"
    }
   ],
   "source": [
    "# платящие активные\n",
    "checks.query(\"student_id in @active_studs.student_id.to_list()\").shape"
   ]
  },
  {
   "cell_type": "code",
   "execution_count": 13,
   "id": "2feea045",
   "metadata": {},
   "outputs": [
    {
     "data": {
      "text/plain": [
       "(149, 2)"
      ]
     },
     "execution_count": 13,
     "metadata": {},
     "output_type": "execute_result"
    }
   ],
   "source": [
    "# платящие неактивные\n",
    "checks.query(\"student_id not in @active_studs.student_id.to_list()\").shape"
   ]
  },
  {
   "cell_type": "code",
   "execution_count": null,
   "id": "0bd4416b",
   "metadata": {},
   "outputs": [],
   "source": []
  },
  {
   "cell_type": "code",
   "execution_count": null,
   "id": "18360f2f",
   "metadata": {},
   "outputs": [],
   "source": []
  },
  {
   "cell_type": "markdown",
   "id": "8e02094d",
   "metadata": {},
   "source": [
    "Объединим все данные в один датафрейм. \n",
    "\n",
    "Первым мерджем оставляем только активных студентов. \n",
    "\n",
    "Вторым добавляем плативших активных пользователей."
   ]
  },
  {
   "cell_type": "code",
   "execution_count": 14,
   "id": "e576ed85",
   "metadata": {},
   "outputs": [
    {
     "data": {
      "text/html": [
       "<div>\n",
       "<style scoped>\n",
       "    .dataframe tbody tr th:only-of-type {\n",
       "        vertical-align: middle;\n",
       "    }\n",
       "\n",
       "    .dataframe tbody tr th {\n",
       "        vertical-align: top;\n",
       "    }\n",
       "\n",
       "    .dataframe thead th {\n",
       "        text-align: right;\n",
       "    }\n",
       "</style>\n",
       "<table border=\"1\" class=\"dataframe\">\n",
       "  <thead>\n",
       "    <tr style=\"text-align: right;\">\n",
       "      <th></th>\n",
       "      <th>id</th>\n",
       "      <th>grp</th>\n",
       "      <th>rev</th>\n",
       "    </tr>\n",
       "  </thead>\n",
       "  <tbody>\n",
       "    <tr>\n",
       "      <th>0</th>\n",
       "      <td>1627</td>\n",
       "      <td>A</td>\n",
       "      <td>990.0</td>\n",
       "    </tr>\n",
       "    <tr>\n",
       "      <th>1</th>\n",
       "      <td>2085</td>\n",
       "      <td>B</td>\n",
       "      <td>NaN</td>\n",
       "    </tr>\n",
       "    <tr>\n",
       "      <th>2</th>\n",
       "      <td>2215</td>\n",
       "      <td>B</td>\n",
       "      <td>NaN</td>\n",
       "    </tr>\n",
       "    <tr>\n",
       "      <th>3</th>\n",
       "      <td>3391</td>\n",
       "      <td>A</td>\n",
       "      <td>NaN</td>\n",
       "    </tr>\n",
       "    <tr>\n",
       "      <th>4</th>\n",
       "      <td>3401</td>\n",
       "      <td>B</td>\n",
       "      <td>NaN</td>\n",
       "    </tr>\n",
       "  </tbody>\n",
       "</table>\n",
       "</div>"
      ],
      "text/plain": [
       "     id grp    rev\n",
       "0  1627   A  990.0\n",
       "1  2085   B    NaN\n",
       "2  2215   B    NaN\n",
       "3  3391   A    NaN\n",
       "4  3401   B    NaN"
      ]
     },
     "execution_count": 14,
     "metadata": {},
     "output_type": "execute_result"
    }
   ],
   "source": [
    "df = groups.merge(active_studs, left_on='id', right_on='student_id') \\\n",
    "    .merge(checks, on='student_id', how='left') \\\n",
    "    .drop('student_id', axis=1)\n",
    "df.head()"
   ]
  },
  {
   "cell_type": "code",
   "execution_count": 15,
   "id": "cd9fde81",
   "metadata": {},
   "outputs": [
    {
     "name": "stdout",
     "output_type": "stream",
     "text": [
      "<class 'pandas.core.frame.DataFrame'>\n",
      "Int64Index: 8341 entries, 0 to 8340\n",
      "Data columns (total 3 columns):\n",
      " #   Column  Non-Null Count  Dtype  \n",
      "---  ------  --------------  -----  \n",
      " 0   id      8341 non-null   int64  \n",
      " 1   grp     8341 non-null   object \n",
      " 2   rev     392 non-null    float64\n",
      "dtypes: float64(1), int64(1), object(1)\n",
      "memory usage: 260.7+ KB\n"
     ]
    }
   ],
   "source": [
    "df.info()"
   ]
  },
  {
   "cell_type": "markdown",
   "id": "cd24ef03",
   "metadata": {},
   "source": [
    "Добавим столбец:\n",
    "- 1 - платил\n",
    "- 0 - не платил"
   ]
  },
  {
   "cell_type": "code",
   "execution_count": 16,
   "id": "dd5a7672",
   "metadata": {},
   "outputs": [
    {
     "data": {
      "text/html": [
       "<div>\n",
       "<style scoped>\n",
       "    .dataframe tbody tr th:only-of-type {\n",
       "        vertical-align: middle;\n",
       "    }\n",
       "\n",
       "    .dataframe tbody tr th {\n",
       "        vertical-align: top;\n",
       "    }\n",
       "\n",
       "    .dataframe thead th {\n",
       "        text-align: right;\n",
       "    }\n",
       "</style>\n",
       "<table border=\"1\" class=\"dataframe\">\n",
       "  <thead>\n",
       "    <tr style=\"text-align: right;\">\n",
       "      <th></th>\n",
       "      <th>id</th>\n",
       "      <th>grp</th>\n",
       "      <th>rev</th>\n",
       "      <th>payment</th>\n",
       "    </tr>\n",
       "  </thead>\n",
       "  <tbody>\n",
       "    <tr>\n",
       "      <th>0</th>\n",
       "      <td>1627</td>\n",
       "      <td>A</td>\n",
       "      <td>990.0</td>\n",
       "      <td>1</td>\n",
       "    </tr>\n",
       "    <tr>\n",
       "      <th>1</th>\n",
       "      <td>2085</td>\n",
       "      <td>B</td>\n",
       "      <td>NaN</td>\n",
       "      <td>0</td>\n",
       "    </tr>\n",
       "    <tr>\n",
       "      <th>2</th>\n",
       "      <td>2215</td>\n",
       "      <td>B</td>\n",
       "      <td>NaN</td>\n",
       "      <td>0</td>\n",
       "    </tr>\n",
       "    <tr>\n",
       "      <th>3</th>\n",
       "      <td>3391</td>\n",
       "      <td>A</td>\n",
       "      <td>NaN</td>\n",
       "      <td>0</td>\n",
       "    </tr>\n",
       "    <tr>\n",
       "      <th>4</th>\n",
       "      <td>3401</td>\n",
       "      <td>B</td>\n",
       "      <td>NaN</td>\n",
       "      <td>0</td>\n",
       "    </tr>\n",
       "  </tbody>\n",
       "</table>\n",
       "</div>"
      ],
      "text/plain": [
       "     id grp    rev  payment\n",
       "0  1627   A  990.0        1\n",
       "1  2085   B    NaN        0\n",
       "2  2215   B    NaN        0\n",
       "3  3391   A    NaN        0\n",
       "4  3401   B    NaN        0"
      ]
     },
     "execution_count": 16,
     "metadata": {},
     "output_type": "execute_result"
    }
   ],
   "source": [
    "df['payment'] = (~df['rev'].isna()).astype(int)\n",
    "df.head()"
   ]
  },
  {
   "cell_type": "code",
   "execution_count": null,
   "id": "01bb5f75",
   "metadata": {},
   "outputs": [],
   "source": []
  },
  {
   "cell_type": "code",
   "execution_count": null,
   "id": "aa28528b",
   "metadata": {},
   "outputs": [],
   "source": []
  },
  {
   "cell_type": "markdown",
   "id": "80e763a4",
   "metadata": {},
   "source": [
    "Разделим данные по группам."
   ]
  },
  {
   "cell_type": "code",
   "execution_count": 17,
   "id": "5519f80d",
   "metadata": {},
   "outputs": [
    {
     "data": {
      "text/html": [
       "<div>\n",
       "<style scoped>\n",
       "    .dataframe tbody tr th:only-of-type {\n",
       "        vertical-align: middle;\n",
       "    }\n",
       "\n",
       "    .dataframe tbody tr th {\n",
       "        vertical-align: top;\n",
       "    }\n",
       "\n",
       "    .dataframe thead th {\n",
       "        text-align: right;\n",
       "    }\n",
       "</style>\n",
       "<table border=\"1\" class=\"dataframe\">\n",
       "  <thead>\n",
       "    <tr style=\"text-align: right;\">\n",
       "      <th></th>\n",
       "      <th>id</th>\n",
       "      <th>grp</th>\n",
       "      <th>rev</th>\n",
       "      <th>payment</th>\n",
       "    </tr>\n",
       "  </thead>\n",
       "  <tbody>\n",
       "    <tr>\n",
       "      <th>0</th>\n",
       "      <td>1627</td>\n",
       "      <td>A</td>\n",
       "      <td>990.0</td>\n",
       "      <td>1</td>\n",
       "    </tr>\n",
       "    <tr>\n",
       "      <th>3</th>\n",
       "      <td>3391</td>\n",
       "      <td>A</td>\n",
       "      <td>NaN</td>\n",
       "      <td>0</td>\n",
       "    </tr>\n",
       "    <tr>\n",
       "      <th>13</th>\n",
       "      <td>109623</td>\n",
       "      <td>A</td>\n",
       "      <td>NaN</td>\n",
       "      <td>0</td>\n",
       "    </tr>\n",
       "    <tr>\n",
       "      <th>15</th>\n",
       "      <td>133678</td>\n",
       "      <td>A</td>\n",
       "      <td>NaN</td>\n",
       "      <td>0</td>\n",
       "    </tr>\n",
       "    <tr>\n",
       "      <th>23</th>\n",
       "      <td>175944</td>\n",
       "      <td>A</td>\n",
       "      <td>NaN</td>\n",
       "      <td>0</td>\n",
       "    </tr>\n",
       "  </tbody>\n",
       "</table>\n",
       "</div>"
      ],
      "text/plain": [
       "        id grp    rev  payment\n",
       "0     1627   A  990.0        1\n",
       "3     3391   A    NaN        0\n",
       "13  109623   A    NaN        0\n",
       "15  133678   A    NaN        0\n",
       "23  175944   A    NaN        0"
      ]
     },
     "execution_count": 17,
     "metadata": {},
     "output_type": "execute_result"
    }
   ],
   "source": [
    "grp_a = df.query(\"grp == 'A'\")\n",
    "grp_a.head()"
   ]
  },
  {
   "cell_type": "code",
   "execution_count": 18,
   "id": "22f38c8b",
   "metadata": {},
   "outputs": [
    {
     "data": {
      "text/html": [
       "<div>\n",
       "<style scoped>\n",
       "    .dataframe tbody tr th:only-of-type {\n",
       "        vertical-align: middle;\n",
       "    }\n",
       "\n",
       "    .dataframe tbody tr th {\n",
       "        vertical-align: top;\n",
       "    }\n",
       "\n",
       "    .dataframe thead th {\n",
       "        text-align: right;\n",
       "    }\n",
       "</style>\n",
       "<table border=\"1\" class=\"dataframe\">\n",
       "  <thead>\n",
       "    <tr style=\"text-align: right;\">\n",
       "      <th></th>\n",
       "      <th>id</th>\n",
       "      <th>grp</th>\n",
       "      <th>rev</th>\n",
       "      <th>payment</th>\n",
       "    </tr>\n",
       "  </thead>\n",
       "  <tbody>\n",
       "    <tr>\n",
       "      <th>1</th>\n",
       "      <td>2085</td>\n",
       "      <td>B</td>\n",
       "      <td>NaN</td>\n",
       "      <td>0</td>\n",
       "    </tr>\n",
       "    <tr>\n",
       "      <th>2</th>\n",
       "      <td>2215</td>\n",
       "      <td>B</td>\n",
       "      <td>NaN</td>\n",
       "      <td>0</td>\n",
       "    </tr>\n",
       "    <tr>\n",
       "      <th>4</th>\n",
       "      <td>3401</td>\n",
       "      <td>B</td>\n",
       "      <td>NaN</td>\n",
       "      <td>0</td>\n",
       "    </tr>\n",
       "    <tr>\n",
       "      <th>5</th>\n",
       "      <td>22994</td>\n",
       "      <td>B</td>\n",
       "      <td>NaN</td>\n",
       "      <td>0</td>\n",
       "    </tr>\n",
       "    <tr>\n",
       "      <th>6</th>\n",
       "      <td>26899</td>\n",
       "      <td>B</td>\n",
       "      <td>NaN</td>\n",
       "      <td>0</td>\n",
       "    </tr>\n",
       "  </tbody>\n",
       "</table>\n",
       "</div>"
      ],
      "text/plain": [
       "      id grp  rev  payment\n",
       "1   2085   B  NaN        0\n",
       "2   2215   B  NaN        0\n",
       "4   3401   B  NaN        0\n",
       "5  22994   B  NaN        0\n",
       "6  26899   B  NaN        0"
      ]
     },
     "execution_count": 18,
     "metadata": {},
     "output_type": "execute_result"
    }
   ],
   "source": [
    "grp_b = df.query(\"grp == 'B'\")\n",
    "grp_b.head()"
   ]
  },
  {
   "cell_type": "code",
   "execution_count": 19,
   "id": "845cc410",
   "metadata": {},
   "outputs": [
    {
     "name": "stdout",
     "output_type": "stream",
     "text": [
      "<class 'pandas.core.frame.DataFrame'>\n",
      "Int64Index: 1538 entries, 0 to 8338\n",
      "Data columns (total 4 columns):\n",
      " #   Column   Non-Null Count  Dtype  \n",
      "---  ------   --------------  -----  \n",
      " 0   id       1538 non-null   int64  \n",
      " 1   grp      1538 non-null   object \n",
      " 2   rev      78 non-null     float64\n",
      " 3   payment  1538 non-null   int32  \n",
      "dtypes: float64(1), int32(1), int64(1), object(1)\n",
      "memory usage: 54.1+ KB\n"
     ]
    }
   ],
   "source": [
    "grp_a.info()"
   ]
  },
  {
   "cell_type": "code",
   "execution_count": 20,
   "id": "b962aff1",
   "metadata": {},
   "outputs": [
    {
     "name": "stdout",
     "output_type": "stream",
     "text": [
      "<class 'pandas.core.frame.DataFrame'>\n",
      "Int64Index: 6803 entries, 1 to 8340\n",
      "Data columns (total 4 columns):\n",
      " #   Column   Non-Null Count  Dtype  \n",
      "---  ------   --------------  -----  \n",
      " 0   id       6803 non-null   int64  \n",
      " 1   grp      6803 non-null   object \n",
      " 2   rev      314 non-null    float64\n",
      " 3   payment  6803 non-null   int32  \n",
      "dtypes: float64(1), int32(1), int64(1), object(1)\n",
      "memory usage: 239.2+ KB\n"
     ]
    }
   ],
   "source": [
    "grp_b.info()"
   ]
  },
  {
   "cell_type": "code",
   "execution_count": null,
   "id": "5a99b803",
   "metadata": {},
   "outputs": [],
   "source": []
  },
  {
   "cell_type": "code",
   "execution_count": null,
   "id": "af12b32e",
   "metadata": {},
   "outputs": [],
   "source": []
  },
  {
   "cell_type": "markdown",
   "id": "44b20658",
   "metadata": {},
   "source": [
    "## Analytics"
   ]
  },
  {
   "cell_type": "code",
   "execution_count": 21,
   "id": "989e529b",
   "metadata": {},
   "outputs": [
    {
     "data": {
      "text/plain": [
       "((14693, 2), (59883, 2))"
      ]
     },
     "execution_count": 21,
     "metadata": {},
     "output_type": "execute_result"
    }
   ],
   "source": [
    "groups.query(\"grp == 'A'\").shape, groups.query(\"grp == 'B'\").shape "
   ]
  },
  {
   "cell_type": "code",
   "execution_count": 22,
   "id": "5741cf39",
   "metadata": {},
   "outputs": [
    {
     "data": {
      "text/plain": [
       "((1538, 4), (6803, 4))"
      ]
     },
     "execution_count": 22,
     "metadata": {},
     "output_type": "execute_result"
    }
   ],
   "source": [
    "grp_a.shape, grp_b.shape"
   ]
  },
  {
   "cell_type": "markdown",
   "id": "9f7f732d",
   "metadata": {},
   "source": [
    "#### Размеры групп значительно различаются, это может влиять на результаты стат тестов"
   ]
  },
  {
   "cell_type": "code",
   "execution_count": null,
   "id": "84a933f8",
   "metadata": {},
   "outputs": [],
   "source": []
  },
  {
   "cell_type": "code",
   "execution_count": null,
   "id": "6c63e87b",
   "metadata": {},
   "outputs": [],
   "source": []
  },
  {
   "cell_type": "markdown",
   "id": "534276d0",
   "metadata": {},
   "source": [
    "Определим наиболее подходящие метрики на основе имеющейся информации.\n",
    "### Метрики:\n",
    "- **CR** - доля пользователей, которые выполнили целевое действие (в данном случае - совершили оплату)\n",
    "\n",
    "- **ARPU** - средний доход с пользователя\n",
    "\n",
    "- **ARPPU** - средний доход на платящего пользователя (то есть клиента)"
   ]
  },
  {
   "cell_type": "code",
   "execution_count": null,
   "id": "210a74d4",
   "metadata": {},
   "outputs": [],
   "source": []
  },
  {
   "cell_type": "markdown",
   "id": "6364d187",
   "metadata": {},
   "source": [
    "Посмотрим на графики распределения платежей:\n",
    "1. График всех активных пользователей\n",
    "2. График клиентов"
   ]
  },
  {
   "cell_type": "code",
   "execution_count": 23,
   "id": "a791832f",
   "metadata": {},
   "outputs": [
    {
     "data": {
      "image/png": "[encoded data removed]",
      "text/plain": [
       "<Figure size 864x432 with 2 Axes>"
      ]
     },
     "metadata": {
      "needs_background": "light"
     },
     "output_type": "display_data"
    }
   ],
   "source": [
    "fig, axs = plt.subplots(nrows=1, ncols=2, figsize=(12, 6))\n",
    "\n",
    "sns.histplot(data=df, x=df.rev.fillna(0), hue='grp', bins=30, ax=axs[0])\n",
    "axs[0].set_title('User histogram')\n",
    "\n",
    "sns.histplot(data=df, x=df.rev, hue='grp', bins=30, ax=axs[1])\n",
    "axs[1].set_title('Customer histogram')\n",
    "\n",
    "plt.tight_layout()\n",
    "plt.show()"
   ]
  },
  {
   "cell_type": "code",
   "execution_count": null,
   "id": "01e28297",
   "metadata": {},
   "outputs": [],
   "source": []
  },
  {
   "cell_type": "markdown",
   "id": "3d2d6bb9",
   "metadata": {},
   "source": [
    "### Видно, что распределения не нормальные. Трансформация переменных не помогает и также помним о различных размерах выборок. Наиболее подходящий метод это bootstrap."
   ]
  },
  {
   "cell_type": "code",
   "execution_count": null,
   "id": "cab01aa1",
   "metadata": {},
   "outputs": [],
   "source": []
  },
  {
   "cell_type": "code",
   "execution_count": 24,
   "id": "cabfbb75",
   "metadata": {},
   "outputs": [],
   "source": [
    "def conf_int_plot(means: list, conf_intervals: list):\n",
    "    '''\n",
    "    Функция принимает списки средних значений для двух групп и соответствующих \n",
    "    им доверительных интервалов, возвращая график, на котором наглядно \n",
    "    демонстрируется пересечение этих доверительных интервалов.\n",
    "    \n",
    "    means - [mean(Group A), mean(Group B)],\n",
    "    conf_intervals - [confidence_interval(Group A), confidence_interval(Group B)]\n",
    "    '''\n",
    "    \n",
    "    groups = ['Group A', 'Group B']\n",
    "\n",
    "    plt.figure(figsize=(10, 5))\n",
    "    for i, group in enumerate(groups):\n",
    "        plt.plot(conf_intervals[i], [i, i], color='blue')  # Доверительный интервал\n",
    "        plt.plot(means[i], i, 'o', color='red')  # Среднее значение\n",
    "        \n",
    "        if group == 'Group A':\n",
    "            plt.axvline(x=conf_intervals[i][0], linestyle='--', color='black')\n",
    "            plt.axvline(x=conf_intervals[i][1], linestyle='--', color='black')\n",
    "\n",
    "    plt.yticks(range(len(groups)), groups)\n",
    "    plt.xlabel('Metric')\n",
    "    plt.title('Confidence Intervals of metric')\n",
    "    plt.grid(True, which='both', linestyle='--', linewidth=0.5)\n",
    "    plt.tight_layout()\n",
    "\n",
    "    plt.show()"
   ]
  },
  {
   "cell_type": "code",
   "execution_count": null,
   "id": "60ded668",
   "metadata": {},
   "outputs": [],
   "source": []
  },
  {
   "cell_type": "markdown",
   "id": "e1c1a12e",
   "metadata": {},
   "source": [
    "### CR"
   ]
  },
  {
   "cell_type": "code",
   "execution_count": 25,
   "id": "d9718bdf",
   "metadata": {},
   "outputs": [
    {
     "data": {
      "text/html": [
       "<div>\n",
       "<style scoped>\n",
       "    .dataframe tbody tr th:only-of-type {\n",
       "        vertical-align: middle;\n",
       "    }\n",
       "\n",
       "    .dataframe tbody tr th {\n",
       "        vertical-align: top;\n",
       "    }\n",
       "\n",
       "    .dataframe thead th {\n",
       "        text-align: right;\n",
       "    }\n",
       "</style>\n",
       "<table border=\"1\" class=\"dataframe\">\n",
       "  <thead>\n",
       "    <tr style=\"text-align: right;\">\n",
       "      <th></th>\n",
       "      <th>id</th>\n",
       "      <th>grp</th>\n",
       "      <th>rev</th>\n",
       "      <th>payment</th>\n",
       "    </tr>\n",
       "  </thead>\n",
       "  <tbody>\n",
       "    <tr>\n",
       "      <th>0</th>\n",
       "      <td>1627</td>\n",
       "      <td>A</td>\n",
       "      <td>990.0</td>\n",
       "      <td>1</td>\n",
       "    </tr>\n",
       "    <tr>\n",
       "      <th>3</th>\n",
       "      <td>3391</td>\n",
       "      <td>A</td>\n",
       "      <td>NaN</td>\n",
       "      <td>0</td>\n",
       "    </tr>\n",
       "    <tr>\n",
       "      <th>13</th>\n",
       "      <td>109623</td>\n",
       "      <td>A</td>\n",
       "      <td>NaN</td>\n",
       "      <td>0</td>\n",
       "    </tr>\n",
       "    <tr>\n",
       "      <th>15</th>\n",
       "      <td>133678</td>\n",
       "      <td>A</td>\n",
       "      <td>NaN</td>\n",
       "      <td>0</td>\n",
       "    </tr>\n",
       "    <tr>\n",
       "      <th>23</th>\n",
       "      <td>175944</td>\n",
       "      <td>A</td>\n",
       "      <td>NaN</td>\n",
       "      <td>0</td>\n",
       "    </tr>\n",
       "  </tbody>\n",
       "</table>\n",
       "</div>"
      ],
      "text/plain": [
       "        id grp    rev  payment\n",
       "0     1627   A  990.0        1\n",
       "3     3391   A    NaN        0\n",
       "13  109623   A    NaN        0\n",
       "15  133678   A    NaN        0\n",
       "23  175944   A    NaN        0"
      ]
     },
     "execution_count": 25,
     "metadata": {},
     "output_type": "execute_result"
    }
   ],
   "source": [
    "grp_a.head()"
   ]
  },
  {
   "cell_type": "markdown",
   "id": "527093cc",
   "metadata": {},
   "source": [
    "Посмотрим на разницу в конверсии"
   ]
  },
  {
   "cell_type": "code",
   "execution_count": 26,
   "id": "da112d0c",
   "metadata": {},
   "outputs": [
    {
     "name": "stdout",
     "output_type": "stream",
     "text": [
      " CR:\n",
      "    Group A - 0.051% \n",
      "    Group B - 0.046%\n",
      "\n"
     ]
    }
   ],
   "source": [
    "print(f''' CR:\n",
    "    Group A - {np.mean(grp_a.payment):.2}% \n",
    "    Group B - {np.mean(grp_b.payment):.2}%\n",
    "''')"
   ]
  },
  {
   "cell_type": "code",
   "execution_count": null,
   "id": "68f705a9",
   "metadata": {},
   "outputs": [],
   "source": []
  },
  {
   "cell_type": "markdown",
   "id": "d3b9dffd",
   "metadata": {},
   "source": [
    "Применим `bootstrap`"
   ]
  },
  {
   "cell_type": "code",
   "execution_count": 27,
   "id": "9826b5fa",
   "metadata": {},
   "outputs": [
    {
     "data": {
      "text/plain": [
       "(ConfidenceInterval(low=0.04031209362808843, high=0.06176853055916775),\n",
       " ConfidenceInterval(low=0.041158312509187125, high=0.05115390268998971))"
      ]
     },
     "execution_count": 27,
     "metadata": {},
     "output_type": "execute_result"
    }
   ],
   "source": [
    "int_1 = bootstrap((grp_a.payment, ), np.mean).confidence_interval\n",
    "int_2 = bootstrap((grp_b.payment, ), np.mean).confidence_interval\n",
    "int_1, int_2"
   ]
  },
  {
   "cell_type": "code",
   "execution_count": 28,
   "id": "0ef6d8ad",
   "metadata": {},
   "outputs": [
    {
     "data": {
      "image/png": "[encoded data removed]",
      "text/plain": [
       "<Figure size 720x360 with 1 Axes>"
      ]
     },
     "metadata": {
      "needs_background": "light"
     },
     "output_type": "display_data"
    }
   ],
   "source": [
    "conf_int_plot([np.mean(int_1), np.mean(int_2)], [int_1, int_2])"
   ]
  },
  {
   "cell_type": "code",
   "execution_count": null,
   "id": "9c5162be",
   "metadata": {},
   "outputs": [],
   "source": []
  },
  {
   "cell_type": "markdown",
   "id": "88d702e9",
   "metadata": {},
   "source": [
    "#### Результаты теста не дали оснований для отклонения нулевой гипотезы о равенстве конверсий."
   ]
  },
  {
   "cell_type": "code",
   "execution_count": null,
   "id": "85f7c8f1",
   "metadata": {},
   "outputs": [],
   "source": []
  },
  {
   "cell_type": "markdown",
   "id": "2edb3b51",
   "metadata": {},
   "source": [
    "### ARPU"
   ]
  },
  {
   "cell_type": "code",
   "execution_count": 29,
   "id": "7992d39e",
   "metadata": {},
   "outputs": [
    {
     "data": {
      "text/html": [
       "<div>\n",
       "<style scoped>\n",
       "    .dataframe tbody tr th:only-of-type {\n",
       "        vertical-align: middle;\n",
       "    }\n",
       "\n",
       "    .dataframe tbody tr th {\n",
       "        vertical-align: top;\n",
       "    }\n",
       "\n",
       "    .dataframe thead th {\n",
       "        text-align: right;\n",
       "    }\n",
       "</style>\n",
       "<table border=\"1\" class=\"dataframe\">\n",
       "  <thead>\n",
       "    <tr style=\"text-align: right;\">\n",
       "      <th></th>\n",
       "      <th>id</th>\n",
       "      <th>grp</th>\n",
       "      <th>rev</th>\n",
       "      <th>payment</th>\n",
       "    </tr>\n",
       "  </thead>\n",
       "  <tbody>\n",
       "    <tr>\n",
       "      <th>0</th>\n",
       "      <td>1627</td>\n",
       "      <td>A</td>\n",
       "      <td>990.0</td>\n",
       "      <td>1</td>\n",
       "    </tr>\n",
       "    <tr>\n",
       "      <th>3</th>\n",
       "      <td>3391</td>\n",
       "      <td>A</td>\n",
       "      <td>NaN</td>\n",
       "      <td>0</td>\n",
       "    </tr>\n",
       "    <tr>\n",
       "      <th>13</th>\n",
       "      <td>109623</td>\n",
       "      <td>A</td>\n",
       "      <td>NaN</td>\n",
       "      <td>0</td>\n",
       "    </tr>\n",
       "    <tr>\n",
       "      <th>15</th>\n",
       "      <td>133678</td>\n",
       "      <td>A</td>\n",
       "      <td>NaN</td>\n",
       "      <td>0</td>\n",
       "    </tr>\n",
       "    <tr>\n",
       "      <th>23</th>\n",
       "      <td>175944</td>\n",
       "      <td>A</td>\n",
       "      <td>NaN</td>\n",
       "      <td>0</td>\n",
       "    </tr>\n",
       "  </tbody>\n",
       "</table>\n",
       "</div>"
      ],
      "text/plain": [
       "        id grp    rev  payment\n",
       "0     1627   A  990.0        1\n",
       "3     3391   A    NaN        0\n",
       "13  109623   A    NaN        0\n",
       "15  133678   A    NaN        0\n",
       "23  175944   A    NaN        0"
      ]
     },
     "execution_count": 29,
     "metadata": {},
     "output_type": "execute_result"
    }
   ],
   "source": [
    "grp_a.head()"
   ]
  },
  {
   "cell_type": "markdown",
   "id": "b60899d9",
   "metadata": {},
   "source": [
    "Посмотрим на разницу в ARPU"
   ]
  },
  {
   "cell_type": "code",
   "execution_count": 30,
   "id": "dbd721c8",
   "metadata": {},
   "outputs": [
    {
     "name": "stdout",
     "output_type": "stream",
     "text": [
      " ARPU:\n",
      "    Group A - 47.34720416124838\n",
      "    Group B - 58.05879810377776\n",
      "\n"
     ]
    }
   ],
   "source": [
    "print(f''' ARPU:\n",
    "    Group A - {np.mean(grp_a.rev.fillna(0))}\n",
    "    Group B - {np.mean(grp_b.rev.fillna(0))}\n",
    "''')"
   ]
  },
  {
   "cell_type": "code",
   "execution_count": null,
   "id": "45fd1e5b",
   "metadata": {},
   "outputs": [],
   "source": []
  },
  {
   "cell_type": "markdown",
   "id": "767380d4",
   "metadata": {},
   "source": [
    "Применим `bootstrap`"
   ]
  },
  {
   "cell_type": "code",
   "execution_count": 31,
   "id": "5be0aca8",
   "metadata": {},
   "outputs": [
    {
     "data": {
      "text/plain": [
       "(ConfidenceInterval(low=34.772780046334475, high=64.35877330559617),\n",
       " ConfidenceInterval(low=50.90499446031293, high=65.83216415574101))"
      ]
     },
     "execution_count": 31,
     "metadata": {},
     "output_type": "execute_result"
    }
   ],
   "source": [
    "int_1 = bootstrap((grp_a.rev.fillna(0), ), np.mean).confidence_interval\n",
    "int_2 = bootstrap((grp_b.rev.fillna(0), ), np.mean).confidence_interval\n",
    "int_1, int_2"
   ]
  },
  {
   "cell_type": "code",
   "execution_count": 32,
   "id": "f2b04604",
   "metadata": {},
   "outputs": [
    {
     "data": {
      "image/png": "[encoded data removed]",
      "text/plain": [
       "<Figure size 720x360 with 1 Axes>"
      ]
     },
     "metadata": {
      "needs_background": "light"
     },
     "output_type": "display_data"
    }
   ],
   "source": [
    "conf_int_plot([np.mean(int_1), np.mean(int_2)], [int_1, int_2])"
   ]
  },
  {
   "cell_type": "code",
   "execution_count": null,
   "id": "d4e673dc",
   "metadata": {},
   "outputs": [],
   "source": []
  },
  {
   "cell_type": "markdown",
   "id": "e949520d",
   "metadata": {},
   "source": [
    "#### Результаты теста не дали оснований для отклонения нулевой гипотезы о равенстве ARPU."
   ]
  },
  {
   "cell_type": "code",
   "execution_count": null,
   "id": "52fbd669",
   "metadata": {},
   "outputs": [],
   "source": []
  },
  {
   "cell_type": "markdown",
   "id": "b977115c",
   "metadata": {},
   "source": [
    "### ARPPU"
   ]
  },
  {
   "cell_type": "code",
   "execution_count": 33,
   "id": "544b25bc",
   "metadata": {},
   "outputs": [
    {
     "data": {
      "text/html": [
       "<div>\n",
       "<style scoped>\n",
       "    .dataframe tbody tr th:only-of-type {\n",
       "        vertical-align: middle;\n",
       "    }\n",
       "\n",
       "    .dataframe tbody tr th {\n",
       "        vertical-align: top;\n",
       "    }\n",
       "\n",
       "    .dataframe thead th {\n",
       "        text-align: right;\n",
       "    }\n",
       "</style>\n",
       "<table border=\"1\" class=\"dataframe\">\n",
       "  <thead>\n",
       "    <tr style=\"text-align: right;\">\n",
       "      <th></th>\n",
       "      <th>id</th>\n",
       "      <th>grp</th>\n",
       "      <th>rev</th>\n",
       "      <th>payment</th>\n",
       "    </tr>\n",
       "  </thead>\n",
       "  <tbody>\n",
       "    <tr>\n",
       "      <th>0</th>\n",
       "      <td>1627</td>\n",
       "      <td>A</td>\n",
       "      <td>990.0</td>\n",
       "      <td>1</td>\n",
       "    </tr>\n",
       "    <tr>\n",
       "      <th>3</th>\n",
       "      <td>3391</td>\n",
       "      <td>A</td>\n",
       "      <td>NaN</td>\n",
       "      <td>0</td>\n",
       "    </tr>\n",
       "    <tr>\n",
       "      <th>13</th>\n",
       "      <td>109623</td>\n",
       "      <td>A</td>\n",
       "      <td>NaN</td>\n",
       "      <td>0</td>\n",
       "    </tr>\n",
       "    <tr>\n",
       "      <th>15</th>\n",
       "      <td>133678</td>\n",
       "      <td>A</td>\n",
       "      <td>NaN</td>\n",
       "      <td>0</td>\n",
       "    </tr>\n",
       "    <tr>\n",
       "      <th>23</th>\n",
       "      <td>175944</td>\n",
       "      <td>A</td>\n",
       "      <td>NaN</td>\n",
       "      <td>0</td>\n",
       "    </tr>\n",
       "  </tbody>\n",
       "</table>\n",
       "</div>"
      ],
      "text/plain": [
       "        id grp    rev  payment\n",
       "0     1627   A  990.0        1\n",
       "3     3391   A    NaN        0\n",
       "13  109623   A    NaN        0\n",
       "15  133678   A    NaN        0\n",
       "23  175944   A    NaN        0"
      ]
     },
     "execution_count": 33,
     "metadata": {},
     "output_type": "execute_result"
    }
   ],
   "source": [
    "grp_a.head()"
   ]
  },
  {
   "cell_type": "markdown",
   "id": "e337c4cb",
   "metadata": {},
   "source": [
    "Посмотрим на разницу в ARPPU"
   ]
  },
  {
   "cell_type": "code",
   "execution_count": 34,
   "id": "f0bfb17b",
   "metadata": {},
   "outputs": [
    {
     "name": "stdout",
     "output_type": "stream",
     "text": [
      " ARPPU:\n",
      "    Group A - 933.5897435897435\n",
      "    Group B - 1257.878992038217\n",
      "\n"
     ]
    }
   ],
   "source": [
    "print(f''' ARPPU:\n",
    "    Group A - {np.mean(grp_a.rev.dropna())}\n",
    "    Group B - {np.mean(grp_b.rev.dropna())}\n",
    "''')"
   ]
  },
  {
   "cell_type": "code",
   "execution_count": null,
   "id": "fc98db37",
   "metadata": {},
   "outputs": [],
   "source": []
  },
  {
   "cell_type": "markdown",
   "id": "ebe8775f",
   "metadata": {},
   "source": [
    "Применим `bootstrap`"
   ]
  },
  {
   "cell_type": "code",
   "execution_count": 35,
   "id": "ed061ecc",
   "metadata": {},
   "outputs": [
    {
     "data": {
      "text/plain": [
       "(ConfidenceInterval(low=756.0206893791741, high=1165.3904080718162),\n",
       " ConfidenceInterval(low=1171.693123526166, high=1346.8862515849503))"
      ]
     },
     "execution_count": 35,
     "metadata": {},
     "output_type": "execute_result"
    }
   ],
   "source": [
    "int_1 = bootstrap((grp_a.rev.dropna(), ), np.mean).confidence_interval\n",
    "int_2 = bootstrap((grp_b.rev.dropna(), ), np.mean).confidence_interval\n",
    "int_1, int_2"
   ]
  },
  {
   "cell_type": "code",
   "execution_count": 36,
   "id": "9fc18d16",
   "metadata": {},
   "outputs": [
    {
     "data": {
      "image/png": "[encoded data removed]",
      "text/plain": [
       "<Figure size 720x360 with 1 Axes>"
      ]
     },
     "metadata": {
      "needs_background": "light"
     },
     "output_type": "display_data"
    }
   ],
   "source": [
    "conf_int_plot([np.mean(int_1), np.mean(int_2)], [int_1, int_2])"
   ]
  },
  {
   "cell_type": "code",
   "execution_count": null,
   "id": "d33fec97",
   "metadata": {},
   "outputs": [],
   "source": []
  },
  {
   "cell_type": "markdown",
   "id": "924cfa4b",
   "metadata": {},
   "source": [
    "#### На основе результатов теста можно сделать вывод о статистически значимых различиях и отклонить нулевую гипотезу о равенстве ARPPU."
   ]
  },
  {
   "cell_type": "code",
   "execution_count": null,
   "id": "9a162a94",
   "metadata": {},
   "outputs": [],
   "source": []
  },
  {
   "cell_type": "code",
   "execution_count": null,
   "id": "768932b2",
   "metadata": {},
   "outputs": [],
   "source": []
  },
  {
   "cell_type": "markdown",
   "id": "97bc8db7",
   "metadata": {},
   "source": [
    "# <span style=\"color:lightgreen\">Анализ ключевых показателей конверсии (CR) и среднего дохода на пользователя (ARPU) не выявил статистически значимых различий между контрольной и экспериментальной группами. Однако наблюдается статистически значимое увеличение среднего дохода на платящего пользователя (ARPPU) почти на 35%. Это говорит о том, что, несмотря на то что общее количество платящих пользователей осталось неизменным, сумма, которую каждый платящий пользователь тратит в среднем, значительно увеличилась. Исходя из полученных данных, можно рекомендовать внедрение новой механики оплаты для всех пользователей.</span>"
   ]
  },
  {
   "cell_type": "code",
   "execution_count": null,
   "id": "4b5752e9",
   "metadata": {},
   "outputs": [],
   "source": []
  },
  {
   "cell_type": "code",
   "execution_count": null,
   "id": "71d1cc6d",
   "metadata": {},
   "outputs": [],
   "source": []
  }
 ],
 "metadata": {
  "kernelspec": {
   "display_name": "Python 3 (ipykernel)",
   "language": "python",
   "name": "python3"
  },
  "language_info": {
   "codemirror_mode": {
    "name": "ipython",
    "version": 3
   },
   "file_extension": ".py",
   "mimetype": "text/x-python",
   "name": "python",
   "nbconvert_exporter": "python",
   "pygments_lexer": "ipython3",
   "version": "3.9.12"
  },
  "latex_envs": {
   "LaTeX_envs_menu_present": true,
   "autoclose": false,
   "autocomplete": true,
   "bibliofile": "biblio.bib",
   "cite_by": "apalike",
   "current_citInitial": 1,
   "eqLabelWithNumbers": true,
   "eqNumInitial": 1,
   "hotkeys": {
    "equation": "Ctrl-E",
    "itemize": "Ctrl-I"
   },
   "labels_anchors": false,
   "latex_user_defs": false,
   "report_style_numbering": false,
   "user_envs_cfg": false
  }
 },
 "nbformat": 4,
 "nbformat_minor": 5
}
